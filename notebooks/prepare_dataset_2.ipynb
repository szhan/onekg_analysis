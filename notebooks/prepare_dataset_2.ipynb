{
 "cells": [
  {
   "cell_type": "code",
   "execution_count": 1,
   "metadata": {},
   "outputs": [],
   "source": [
    "import numpy as np\n",
    "import tszip\n"
   ]
  },
  {
   "attachments": {},
   "cell_type": "markdown",
   "metadata": {},
   "source": [
    "### Split into reference panel and target cohorts"
   ]
  },
  {
   "cell_type": "code",
   "execution_count": 2,
   "metadata": {},
   "outputs": [],
   "source": [
    "trees_dir = \"../data/trees\"\n"
   ]
  },
  {
   "cell_type": "code",
   "execution_count": null,
   "metadata": {},
   "outputs": [],
   "source": [
    "ts_hc_bi_file = trees_dir + \"hgdp_tgp_sgdp_chr20_p.dated.hc_bi.trees.tsz\"\n",
    "ts = tszip.decompress(ts_hc_bi_file)\n"
   ]
  },
  {
   "cell_type": "code",
   "execution_count": null,
   "metadata": {},
   "outputs": [],
   "source": [
    "ref_size = 700\n",
    "target_size = ts.num_individuals - ref_size\n",
    "\n",
    "print(f\"Reference panel size: {ref_size}\")\n",
    "print(f\"Target cohort size: {target_size}\")\n"
   ]
  },
  {
   "cell_type": "code",
   "execution_count": null,
   "metadata": {},
   "outputs": [],
   "source": [
    "np.random.seed(1234)\n",
    "\n",
    "all_inds = np.arange(ts.num_individuals)\n",
    "ref_inds = np.sort(np.random.choice(all_inds, ref_size, replace=False))\n",
    "target_inds = np.array(list(set(all_inds) - set(ref_inds)))\n",
    "\n",
    "print(f\"Reference panel size: {len(ref_inds)}\")\n",
    "print(f\"Target cohort size: {len(target_inds)}\")\n",
    "\n",
    "assert len(ref_inds) == ref_size\n",
    "assert len(target_inds) == target_size\n"
   ]
  },
  {
   "cell_type": "code",
   "execution_count": null,
   "metadata": {},
   "outputs": [],
   "source": [
    "all_nodes = np.arange(ts.num_nodes)\n",
    "ref_nodes = all_nodes[np.isin(ts.nodes_individual, ref_inds)]\n",
    "target_nodes = all_nodes[np.isin(ts.nodes_individual, target_inds)]\n"
   ]
  },
  {
   "cell_type": "code",
   "execution_count": null,
   "metadata": {},
   "outputs": [],
   "source": [
    "ref_ts = ts.simplify(\n",
    "    samples=ref_nodes,\n",
    "    filter_populations=True,\n",
    "    filter_individuals=True,\n",
    "    filter_nodes=True,\n",
    "    filter_sites=True,\n",
    ")\n"
   ]
  },
  {
   "cell_type": "code",
   "execution_count": null,
   "metadata": {},
   "outputs": [],
   "source": [
    "target_ts = ts.simplify(\n",
    "    samples=target_nodes,\n",
    "    filter_populations=True,\n",
    "    filter_individuals=True,\n",
    "    filter_nodes=True,\n",
    "    filter_sites=True,\n",
    ")\n"
   ]
  },
  {
   "cell_type": "code",
   "execution_count": null,
   "metadata": {},
   "outputs": [],
   "source": [
    "ref_ts\n"
   ]
  },
  {
   "cell_type": "code",
   "execution_count": null,
   "metadata": {},
   "outputs": [],
   "source": [
    "target_ts\n"
   ]
  },
  {
   "cell_type": "code",
   "execution_count": null,
   "metadata": {},
   "outputs": [],
   "source": [
    "ref_ts_file = trees_dir + \"ref.tsz\"\n",
    "target_ts_file = trees_dir + \"target.tsz\"\n",
    "tszip.compress(ref_ts, ref_ts_file)\n",
    "tszip.compress(target_ts, target_ts_file)\n"
   ]
  },
  {
   "cell_type": "code",
   "execution_count": null,
   "metadata": {},
   "outputs": [],
   "source": []
  }
 ],
 "metadata": {
  "kernelspec": {
   "display_name": "Python 3",
   "language": "python",
   "name": "python3"
  },
  "language_info": {
   "codemirror_mode": {
    "name": "ipython",
    "version": 3
   },
   "file_extension": ".py",
   "mimetype": "text/x-python",
   "name": "python",
   "nbconvert_exporter": "python",
   "pygments_lexer": "ipython3",
   "version": "3.9.16"
  },
  "orig_nbformat": 4
 },
 "nbformat": 4,
 "nbformat_minor": 2
}
