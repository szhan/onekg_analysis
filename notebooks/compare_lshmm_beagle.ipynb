{
 "cells": [
  {
   "cell_type": "code",
   "execution_count": null,
   "metadata": {},
   "outputs": [],
   "source": [
    "import numpy as np\n",
    "import matplotlib.pyplot as plt\n",
    "\n",
    "import sgkit as sg\n",
    "\n",
    "import sys\n",
    "sys.path.append(\"../../tsimpute/src/\")\n",
    "import vis\n"
   ]
  },
  {
   "cell_type": "code",
   "execution_count": null,
   "metadata": {},
   "outputs": [],
   "source": [
    "# Genetic variation at shared sites\n",
    "zarr_dir = \"../data/zarr/\"\n",
    "ref_ds = sg.load_dataset(zarr_dir + \"ref.zarr\") # not all allele lists are ACGT\n",
    "ref_ds_compat = sg.load_dataset(zarr_dir + \"ref_compat.zarr\")\n",
    "target_ds_compat = sg.load_dataset(zarr_dir + \"target_compat.zarr\") # ground-truth\n",
    "target_chip_ds_compat = sg.load_dataset(zarr_dir + \"target_chip_compat.zarr\")   # chip-like\n",
    "lshmm_ds_compat = sg.load_dataset(zarr_dir + \"target_lshmm_compat.zarr\")    # imputed\n",
    "beagle_ds_compat = sg.load_dataset(zarr_dir + \"target_beagle_compat.zarr\")  # imputed\n"
   ]
  },
  {
   "cell_type": "code",
   "execution_count": null,
   "metadata": {},
   "outputs": [],
   "source": [
    "print(f\"Sites in ref (full): {ref_ds.dims['variants']}\")\n",
    "print(f\"Sites in ref (shared): {ref_ds_compat.dims['variants']}\")\n",
    "print(f\"Sites in target (shared): {target_ds_compat.dims['variants']}\")\n",
    "print(f\"Sites in target chip (shared): {target_chip_ds_compat.dims['variants']}\")\n",
    "print(f\"Sites in lshmm (full): {lshmm_ds_compat.dims['variants']}\")\n",
    "print(f\"Sites in BEAGLE (full): {beagle_ds_compat.dims['variants']}\")\n"
   ]
  },
  {
   "cell_type": "code",
   "execution_count": null,
   "metadata": {},
   "outputs": [],
   "source": [
    "# lshmm vs. BEAGLE (all sites)\n",
    "assert lshmm_ds_compat.dims[\"ploidy\"] == 2\n",
    "assert beagle_ds_compat.dims[\"ploidy\"] == 2\n",
    "\n",
    "diff_lshmm_beagle = np.zeros(\n",
    "    2 * lshmm_ds_compat.dims[\"samples\"],\n",
    "    dtype=np.int32\n",
    ")\n",
    "\n",
    "for i in np.arange(lshmm_ds_compat.dims[\"samples\"]):\n",
    "    diff_lshmm_beagle[2 * i] = np.sum(np.invert(np.equal(\n",
    "        lshmm_ds_compat.call_genotype[:, i, 0].values,\n",
    "        beagle_ds_compat.call_genotype[:, i, 0].values\n",
    "    )))\n",
    "    diff_lshmm_beagle[2 * i + 1] = np.sum(np.invert(np.equal(\n",
    "        lshmm_ds_compat.call_genotype[:, i, 1].values,\n",
    "        beagle_ds_compat.call_genotype[:, i, 1].values\n",
    "    )))\n",
    "\n",
    "fig, ax = plt.subplots(figsize=(8, 6))\n",
    "ax.hist(diff_lshmm_beagle, bins=100);\n",
    "ax.set_ylabel(\"Number of samples\")\n",
    "ax.set_xlabel(\"Number of sites with different imputed allele\");\n"
   ]
  },
  {
   "cell_type": "code",
   "execution_count": null,
   "metadata": {},
   "outputs": [],
   "source": [
    "# lshmm vs. BEAGLE (biallelic sites in ref. and target)\n",
    "shared_sites = np.where(np.isin(\n",
    "    lshmm_ds_compat.variant_position.values,\n",
    "    ref_ds_compat.variant_position.values\n",
    "))[0]\n",
    "\n",
    "lshmm_ds_compat_shared = lshmm_ds_compat.isel(variants=shared_sites)\n",
    "beagle_ds_compat_shared = beagle_ds_compat.isel(variants=shared_sites)\n",
    "\n",
    "assert lshmm_ds_compat_shared.dims[\"ploidy\"] == 2\n",
    "assert beagle_ds_compat_shared.dims[\"ploidy\"] == 2\n",
    "\n",
    "diff_lshmm_beagle = np.zeros(\n",
    "    2 * lshmm_ds_compat_shared.dims[\"samples\"],\n",
    "    dtype=np.int32\n",
    ")\n",
    "\n",
    "for i in np.arange(lshmm_ds_compat_shared.dims[\"samples\"]):\n",
    "    diff_lshmm_beagle[2 * i] = np.sum(np.invert(np.equal(\n",
    "        lshmm_ds_compat_shared.call_genotype[:, i, 0].values,\n",
    "        beagle_ds_compat_shared.call_genotype[:, i, 0].values\n",
    "    )))\n",
    "    diff_lshmm_beagle[2 * i + 1] = np.sum(np.invert(np.equal(\n",
    "        lshmm_ds_compat_shared.call_genotype[:, i, 1].values,\n",
    "        beagle_ds_compat_shared.call_genotype[:, i, 1].values\n",
    "    )))\n",
    "\n",
    "fig, ax = plt.subplots(figsize=(8, 6))\n",
    "ax.hist(diff_lshmm_beagle, bins=100);\n",
    "ax.set_ylabel(\"Number of samples\")\n",
    "ax.set_xlabel(\"Number of sites with different imputed allele\");\n"
   ]
  },
  {
   "cell_type": "code",
   "execution_count": null,
   "metadata": {},
   "outputs": [],
   "source": [
    "print(target_ds_compat.dims)\n",
    "print(beagle_ds_compat_shared.dims)\n"
   ]
  },
  {
   "cell_type": "code",
   "execution_count": null,
   "metadata": {},
   "outputs": [],
   "source": [
    "# BEAGLE vs. truth (biallelic sites in both ref. and target)\n",
    "assert beagle_ds_compat.dims[\"ploidy\"] == 2\n",
    "assert target_ds_compat.dims[\"ploidy\"] == 2\n",
    "\n",
    "shared_sites = np.where(np.isin(\n",
    "    beagle_ds_compat.variant_position.values,\n",
    "    target_ds_compat.variant_position.values\n",
    "))[0]\n",
    "\n",
    "beagle_ds_compat_shared = beagle_ds_compat.isel(variants=shared_sites)\n",
    "\n",
    "diff_beagle_truth = np.zeros(\n",
    "    2 * beagle_ds_compat_shared.dims[\"samples\"],\n",
    "    dtype=np.int32\n",
    ")\n",
    "\n",
    "for i in np.arange(beagle_ds_compat_shared.dims[\"samples\"]):\n",
    "    diff_beagle_truth[2 * i] = np.sum(np.invert(np.equal(\n",
    "        beagle_ds_compat_shared.call_genotype[:, i, 0].values,\n",
    "        target_ds_compat.call_genotype[:, i, 0].values\n",
    "    )))\n",
    "    diff_beagle_truth[2 * i + 1] = np.sum(np.invert(np.equal(\n",
    "        beagle_ds_compat_shared.call_genotype[:, i, 1].values,\n",
    "        target_ds_compat.call_genotype[:, i, 1].values\n",
    "    )))\n",
    "\n",
    "fig, ax = plt.subplots(figsize=(8, 6))\n",
    "ax.hist(diff_beagle_truth, bins=100)\n",
    "ax.set_ylabel(\"Number of samples\")\n",
    "ax.set_xlabel(\"Number of sites with different imputed allele\");\n"
   ]
  },
  {
   "cell_type": "code",
   "execution_count": null,
   "metadata": {},
   "outputs": [],
   "source": [
    "shared_site_idx = np.where(np.isin(\n",
    "    lshmm_ds_compat.variant_position.values,\n",
    "    target_chip_ds_compat.variant_position.values,\n",
    "))[0]\n",
    "print(len(shared_site_idx))\n"
   ]
  },
  {
   "cell_type": "code",
   "execution_count": null,
   "metadata": {},
   "outputs": [],
   "source": [
    "lshmm_ds_compat_chip = lshmm_ds_compat.isel(variants=shared_site_idx)\n",
    "beagle_ds_compat_chip = beagle_ds_compat.isel(variants=shared_site_idx)\n"
   ]
  },
  {
   "cell_type": "code",
   "execution_count": null,
   "metadata": {},
   "outputs": [],
   "source": [
    "j = 0\n",
    "for i in np.arange(len(shared_site_idx)):\n",
    "    if not np.array_equal(\n",
    "        lshmm_ds_compat_chip.call_genotype[i].values,\n",
    "        beagle_ds_compat_chip.call_genotype[i].values\n",
    "    ):\n",
    "        print(lshmm_ds_compat_chip.variant_position.values[i])\n",
    "        #print(beagle_ds_compat_chip.variant_position.values[i])\n",
    "        j += 1\n",
    "        break\n"
   ]
  },
  {
   "cell_type": "code",
   "execution_count": null,
   "metadata": {},
   "outputs": [],
   "source": [
    "i = 0\n",
    "for lshmm_gt, beagle_gt in zip(lshmm_ds_compat_chip.call_genotype[0].values, beagle_ds_compat_chip.call_genotype[0].values):\n",
    "    if not np.array_equal(lshmm_gt, beagle_gt):\n",
    "        print(i, lshmm_gt, beagle_gt)\n",
    "    i += 1\n"
   ]
  },
  {
   "cell_type": "code",
   "execution_count": null,
   "metadata": {},
   "outputs": [],
   "source": [
    "i = 0\n",
    "for true_gt, beagle_gt in zip(target_chip_ds_compat.call_genotype[0].values, beagle_ds_compat_chip.call_genotype[0].values):\n",
    "    if not np.array_equal(true_gt, beagle_gt):\n",
    "        print(i, true_gt, beagle_gt)\n",
    "    i += 1\n"
   ]
  },
  {
   "cell_type": "code",
   "execution_count": null,
   "metadata": {},
   "outputs": [],
   "source": [
    "i = 0\n",
    "for true_gt, lshmm_gt in zip(target_chip_ds_compat.call_genotype[0].values, lshmm_ds_compat_chip.call_genotype[0].values):\n",
    "    if not np.array_equal(true_gt, lshmm_gt):\n",
    "        print(i, true_gt, lshmm_gt)\n",
    "    i += 1\n"
   ]
  },
  {
   "cell_type": "code",
   "execution_count": null,
   "metadata": {},
   "outputs": [],
   "source": []
  }
 ],
 "metadata": {
  "kernelspec": {
   "display_name": "Python 3",
   "language": "python",
   "name": "python3"
  },
  "language_info": {
   "codemirror_mode": {
    "name": "ipython",
    "version": 3
   },
   "file_extension": ".py",
   "mimetype": "text/x-python",
   "name": "python",
   "nbconvert_exporter": "python",
   "pygments_lexer": "ipython3",
   "version": "3.9.16"
  },
  "orig_nbformat": 4
 },
 "nbformat": 4,
 "nbformat_minor": 2
}
