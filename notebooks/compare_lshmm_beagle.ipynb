{
 "cells": [
  {
   "cell_type": "code",
   "execution_count": 1,
   "metadata": {},
   "outputs": [],
   "source": [
    "import numpy as np\n",
    "import matplotlib.pyplot as plt\n",
    "\n",
    "import sgkit as sg\n",
    "\n",
    "import sys\n",
    "sys.path.append(\"../../tsimpute/src/\")\n",
    "import vis\n"
   ]
  },
  {
   "cell_type": "code",
   "execution_count": 2,
   "metadata": {},
   "outputs": [],
   "source": [
    "# Genetic variation at shared sites\n",
    "zarr_dir = \"../data/zarr/\"\n",
    "ref_ds = sg.load_dataset(zarr_dir + \"ref.zarr\") # not all allele lists are ACGT\n",
    "ref_ds_compat = sg.load_dataset(zarr_dir + \"ref_compat.zarr\")\n",
    "target_ds_compat = sg.load_dataset(zarr_dir + \"target_compat.zarr\") # ground-truth\n",
    "target_chip_ds_compat = sg.load_dataset(zarr_dir + \"target_chip_compat.zarr\")   # chip-like\n",
    "lshmm_ds_compat = sg.load_dataset(zarr_dir + \"target_lshmm_compat.zarr\")    # imputed\n",
    "beagle_ds_compat = sg.load_dataset(zarr_dir + \"target_beagle_compat.zarr\")  # imputed\n"
   ]
  },
  {
   "cell_type": "code",
   "execution_count": 3,
   "metadata": {},
   "outputs": [
    {
     "name": "stdout",
     "output_type": "stream",
     "text": [
      "Sites in ref (full): 504314\n",
      "Sites in ref (shared): 231630\n",
      "Sites in target (shared): 231630\n",
      "Sites in target chip (shared): 7899\n",
      "Sites in lshmm (full): 504314\n",
      "Sites in BEAGLE (full): 504314\n"
     ]
    }
   ],
   "source": [
    "print(f\"Sites in ref (full): {ref_ds.dims['variants']}\")\n",
    "print(f\"Sites in ref (shared): {ref_ds_compat.dims['variants']}\")\n",
    "print(f\"Sites in target (shared): {target_ds_compat.dims['variants']}\")\n",
    "print(f\"Sites in target chip (shared): {target_chip_ds_compat.dims['variants']}\")\n",
    "print(f\"Sites in lshmm (full): {lshmm_ds_compat.dims['variants']}\")\n",
    "print(f\"Sites in BEAGLE (full): {beagle_ds_compat.dims['variants']}\")\n"
   ]
  },
  {
   "cell_type": "code",
   "execution_count": 4,
   "metadata": {},
   "outputs": [
    {
     "name": "stdout",
     "output_type": "stream",
     "text": [
      "496415\n"
     ]
    }
   ],
   "source": [
    "# Identify non-chip sites\n",
    "non_chip_site_idx = np.where(np.isin(\n",
    "    lshmm_ds_compat.variant_position.values,\n",
    "    target_chip_ds_compat.variant_position.values,\n",
    "    invert=True,\n",
    "))[0]\n",
    "print(len(non_chip_site_idx))\n"
   ]
  },
  {
   "cell_type": "code",
   "execution_count": 12,
   "metadata": {},
   "outputs": [
    {
     "name": "stdout",
     "output_type": "stream",
     "text": [
      "223731\n"
     ]
    }
   ],
   "source": [
    "non_chip_site_pos = target_ds_compat.variant_position.values[np.isin(\n",
    "    target_ds_compat.variant_position.values,\n",
    "    target_chip_ds_compat.variant_position.values,\n",
    "    invert=True,\n",
    ")]\n",
    "print(len(non_chip_site_pos))\n"
   ]
  },
  {
   "cell_type": "code",
   "execution_count": 14,
   "metadata": {},
   "outputs": [],
   "source": [
    "assert lshmm_ds_compat.dims['variants'] == beagle_ds_compat.dims['variants']\n",
    "non_chip_site_idx = np.where(np.isin(lshmm_ds_compat.variant_position.values, non_chip_site_pos))[0]\n",
    "lshmm_ds_nonchip_compat = lshmm_ds_compat.isel(variants=non_chip_site_idx)\n",
    "beagle_ds_nonchip_compat = beagle_ds_compat.isel(variants=non_chip_site_idx)\n"
   ]
  },
  {
   "cell_type": "code",
   "execution_count": 16,
   "metadata": {},
   "outputs": [
    {
     "data": {
      "image/png": "[encoded data removed]",
      "text/plain": [
       "<Figure size 800x600 with 1 Axes>"
      ]
     },
     "metadata": {},
     "output_type": "display_data"
    }
   ],
   "source": [
    "# lshmm vs. BEAGLE (non-chip sites)\n",
    "diff_lshmm_beagle = np.zeros(\n",
    "    2 * lshmm_ds_nonchip_compat.dims[\"samples\"],\n",
    "    dtype=np.int32\n",
    ")\n",
    "\n",
    "for i in np.arange(lshmm_ds_compat.dims[\"samples\"]):\n",
    "    diff_lshmm_beagle[2 * i] = np.sum(np.invert(np.equal(\n",
    "        lshmm_ds_nonchip_compat.call_genotype[:, i, 0].values,\n",
    "        beagle_ds_nonchip_compat.call_genotype[:, i, 0].values\n",
    "    )))\n",
    "    diff_lshmm_beagle[2 * i + 1] = np.sum(np.invert(np.equal(\n",
    "        lshmm_ds_nonchip_compat.call_genotype[:, i, 1].values,\n",
    "        beagle_ds_nonchip_compat.call_genotype[:, i, 1].values\n",
    "    )))\n",
    "\n",
    "fig, ax = plt.subplots(figsize=(8, 6))\n",
    "ax.hist(diff_lshmm_beagle, bins=100)\n",
    "ax.set_ylabel(\"Number of samples\")\n",
    "ax.set_xlabel(\"Number of sites with different imputed allele\");\n"
   ]
  },
  {
   "cell_type": "code",
   "execution_count": null,
   "metadata": {},
   "outputs": [],
   "source": []
  }
 ],
 "metadata": {
  "kernelspec": {
   "display_name": "Python 3",
   "language": "python",
   "name": "python3"
  },
  "language_info": {
   "codemirror_mode": {
    "name": "ipython",
    "version": 3
   },
   "file_extension": ".py",
   "mimetype": "text/x-python",
   "name": "python",
   "nbconvert_exporter": "python",
   "pygments_lexer": "ipython3",
   "version": "3.9.16"
  },
  "orig_nbformat": 4
 },
 "nbformat": 4,
 "nbformat_minor": 2
}
