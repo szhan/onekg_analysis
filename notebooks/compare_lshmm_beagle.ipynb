{
 "cells": [
  {
   "cell_type": "code",
   "execution_count": 1,
   "metadata": {},
   "outputs": [
    {
     "data": {
      "text/html": [
       "<style>\n",
       "        .bk-notebook-logo {\n",
       "            display: block;\n",
       "            width: 20px;\n",
       "            height: 20px;\n",
       "            background-image: url(data:image/png;base64,iVBORw0KGgoAAAANSUhEUgAAABQAAAAUCAYAAACNiR0NAAAABHNCSVQICAgIfAhkiAAAAAlwSFlzAAALEgAACxIB0t1+/AAAABx0RVh0U29mdHdhcmUAQWRvYmUgRmlyZXdvcmtzIENTNui8sowAAAOkSURBVDiNjZRtaJVlGMd/1/08zzln5zjP1LWcU9N0NkN8m2CYjpgQYQXqSs0I84OLIC0hkEKoPtiH3gmKoiJDU7QpLgoLjLIQCpEsNJ1vqUOdO7ppbuec5+V+rj4ctwzd8IIbbi6u+8f1539dt3A78eXC7QizUF7gyV1fD1Yqg4JWz84yffhm0qkFqBogB9rM8tZdtwVsPUhWhGcFJngGeWrPzHm5oaMmkfEg1usvLFyc8jLRqDOMru7AyC8saQr7GG7f5fvDeH7Ej8CM66nIF+8yngt6HWaKh7k49Soy9nXurCi1o3qUbS3zWfrYeQDTB/Qj6kX6Ybhw4B+bOYoLKCC9H3Nu/leUTZ1JdRWkkn2ldcCamzrcf47KKXdAJllSlxAOkRgyHsGC/zRday5Qld9DyoM4/q/rUoy/CXh3jzOu3bHUVZeU+DEn8FInkPBFlu3+nW3Nw0mk6vCDiWg8CeJaxEwuHS3+z5RgY+YBR6V1Z1nxSOfoaPa4LASWxxdNp+VWTk7+4vzaou8v8PN+xo+KY2xsw6une2frhw05CTYOmQvsEhjhWjn0bmXPjpE1+kplmmkP3suftwTubK9Vq22qKmrBhpY4jvd5afdRA3wGjFAgcnTK2s4hY0/GPNIb0nErGMCRxWOOX64Z8RAC4oCXdklmEvcL8o0BfkNK4lUg9HTl+oPlQxdNo3Mg4Nv175e/1LDGzZen30MEjRUtmXSfiTVu1kK8W4txyV6BMKlbgk3lMwYCiusNy9fVfvvwMxv8Ynl6vxoByANLTWplvuj/nF9m2+PDtt1eiHPBr1oIfhCChQMBw6Aw0UulqTKZdfVvfG7VcfIqLG9bcldL/+pdWTLxLUy8Qq38heUIjh4XlzZxzQm19lLFlr8vdQ97rjZVOLf8nclzckbcD4wxXMidpX30sFd37Fv/GtwwhzhxGVAprjbg0gCAEeIgwCZyTV2Z1REEW8O4py0wsjeloKoMr6iCY6dP92H6Vw/oTyICIthibxjm/DfN9lVz8IqtqKYLUXfoKVMVQVVJOElGjrnnUt9T9wbgp8AyYKaGlqingHZU/uG2NTZSVqwHQTWkx9hxjkpWDaCg6Ckj5qebgBVbT3V3NNXMSiWSDdGV3hrtzla7J+duwPOToIg42ChPQOQjspnSlp1V+Gjdged7+8UN5CRAV7a5EdFNwCjEaBR27b3W890TE7g24NAP/mMDXRWrGoFPQI9ls/MWO2dWFAar/xcOIImbbpA3zgAAAABJRU5ErkJggg==);\n",
       "        }\n",
       "    </style>\n",
       "    <div>\n",
       "        <a href=\"https://bokeh.org\" target=\"_blank\" class=\"bk-notebook-logo\"></a>\n",
       "        <span id=\"c1d76203-c2c5-4cf8-845f-8d7134d73762\">Loading BokehJS ...</span>\n",
       "    </div>\n"
      ]
     },
     "metadata": {},
     "output_type": "display_data"
    },
    {
     "data": {
      "application/javascript": "(function(root) {\n  function now() {\n    return new Date();\n  }\n\n  const force = true;\n\n  if (typeof root._bokeh_onload_callbacks === \"undefined\" || force === true) {\n    root._bokeh_onload_callbacks = [];\n    root._bokeh_is_loading = undefined;\n  }\n\nconst JS_MIME_TYPE = 'application/javascript';\n  const HTML_MIME_TYPE = 'text/html';\n  const EXEC_MIME_TYPE = 'application/vnd.bokehjs_exec.v0+json';\n  const CLASS_NAME = 'output_bokeh rendered_html';\n\n  /**\n   * Render data to the DOM node\n   */\n  function render(props, node) {\n    const script = document.createElement(\"script\");\n    node.appendChild(script);\n  }\n\n  /**\n   * Handle when an output is cleared or removed\n   */\n  function handleClearOutput(event, handle) {\n    const cell = handle.cell;\n\n    const id = cell.output_area._bokeh_element_id;\n    const server_id = cell.output_area._bokeh_server_id;\n    // Clean up Bokeh references\n    if (id != null && id in Bokeh.index) {\n      Bokeh.index[id].model.document.clear();\n      delete Bokeh.index[id];\n    }\n\n    if (server_id !== undefined) {\n      // Clean up Bokeh references\n      const cmd_clean = \"from bokeh.io.state import curstate; print(curstate().uuid_to_server['\" + server_id + \"'].get_sessions()[0].document.roots[0]._id)\";\n      cell.notebook.kernel.execute(cmd_clean, {\n        iopub: {\n          output: function(msg) {\n            const id = msg.content.text.trim();\n            if (id in Bokeh.index) {\n              Bokeh.index[id].model.document.clear();\n              delete Bokeh.index[id];\n            }\n          }\n        }\n      });\n      // Destroy server and session\n      const cmd_destroy = \"import bokeh.io.notebook as ion; ion.destroy_server('\" + server_id + \"')\";\n      cell.notebook.kernel.execute(cmd_destroy);\n    }\n  }\n\n  /**\n   * Handle when a new output is added\n   */\n  function handleAddOutput(event, handle) {\n    const output_area = handle.output_area;\n    const output = handle.output;\n\n    // limit handleAddOutput to display_data with EXEC_MIME_TYPE content only\n    if ((output.output_type != \"display_data\") || (!Object.prototype.hasOwnProperty.call(output.data, EXEC_MIME_TYPE))) {\n      return\n    }\n\n    const toinsert = output_area.element.find(\".\" + CLASS_NAME.split(' ')[0]);\n\n    if (output.metadata[EXEC_MIME_TYPE][\"id\"] !== undefined) {\n      toinsert[toinsert.length - 1].firstChild.textContent = output.data[JS_MIME_TYPE];\n      // store reference to embed id on output_area\n      output_area._bokeh_element_id = output.metadata[EXEC_MIME_TYPE][\"id\"];\n    }\n    if (output.metadata[EXEC_MIME_TYPE][\"server_id\"] !== undefined) {\n      const bk_div = document.createElement(\"div\");\n      bk_div.innerHTML = output.data[HTML_MIME_TYPE];\n      const script_attrs = bk_div.children[0].attributes;\n      for (let i = 0; i < script_attrs.length; i++) {\n        toinsert[toinsert.length - 1].firstChild.setAttribute(script_attrs[i].name, script_attrs[i].value);\n        toinsert[toinsert.length - 1].firstChild.textContent = bk_div.children[0].textContent\n      }\n      // store reference to server id on output_area\n      output_area._bokeh_server_id = output.metadata[EXEC_MIME_TYPE][\"server_id\"];\n    }\n  }\n\n  function register_renderer(events, OutputArea) {\n\n    function append_mime(data, metadata, element) {\n      // create a DOM node to render to\n      const toinsert = this.create_output_subarea(\n        metadata,\n        CLASS_NAME,\n        EXEC_MIME_TYPE\n      );\n      this.keyboard_manager.register_events(toinsert);\n      // Render to node\n      const props = {data: data, metadata: metadata[EXEC_MIME_TYPE]};\n      render(props, toinsert[toinsert.length - 1]);\n      element.append(toinsert);\n      return toinsert\n    }\n\n    /* Handle when an output is cleared or removed */\n    events.on('clear_output.CodeCell', handleClearOutput);\n    events.on('delete.Cell', handleClearOutput);\n\n    /* Handle when a new output is added */\n    events.on('output_added.OutputArea', handleAddOutput);\n\n    /**\n     * Register the mime type and append_mime function with output_area\n     */\n    OutputArea.prototype.register_mime_type(EXEC_MIME_TYPE, append_mime, {\n      /* Is output safe? */\n      safe: true,\n      /* Index of renderer in `output_area.display_order` */\n      index: 0\n    });\n  }\n\n  // register the mime type if in Jupyter Notebook environment and previously unregistered\n  if (root.Jupyter !== undefined) {\n    const events = require('base/js/events');\n    const OutputArea = require('notebook/js/outputarea').OutputArea;\n\n    if (OutputArea.prototype.mime_types().indexOf(EXEC_MIME_TYPE) == -1) {\n      register_renderer(events, OutputArea);\n    }\n  }\n  if (typeof (root._bokeh_timeout) === \"undefined\" || force === true) {\n    root._bokeh_timeout = Date.now() + 5000;\n    root._bokeh_failed_load = false;\n  }\n\n  const NB_LOAD_WARNING = {'data': {'text/html':\n     \"<div style='background-color: #fdd'>\\n\"+\n     \"<p>\\n\"+\n     \"BokehJS does not appear to have successfully loaded. If loading BokehJS from CDN, this \\n\"+\n     \"may be due to a slow or bad network connection. Possible fixes:\\n\"+\n     \"</p>\\n\"+\n     \"<ul>\\n\"+\n     \"<li>re-rerun `output_notebook()` to attempt to load from CDN again, or</li>\\n\"+\n     \"<li>use INLINE resources instead, as so:</li>\\n\"+\n     \"</ul>\\n\"+\n     \"<code>\\n\"+\n     \"from bokeh.resources import INLINE\\n\"+\n     \"output_notebook(resources=INLINE)\\n\"+\n     \"</code>\\n\"+\n     \"</div>\"}};\n\n  function display_loaded() {\n    const el = document.getElementById(\"c1d76203-c2c5-4cf8-845f-8d7134d73762\");\n    if (el != null) {\n      el.textContent = \"BokehJS is loading...\";\n    }\n    if (root.Bokeh !== undefined) {\n      if (el != null) {\n        el.textContent = \"BokehJS \" + root.Bokeh.version + \" successfully loaded.\";\n      }\n    } else if (Date.now() < root._bokeh_timeout) {\n      setTimeout(display_loaded, 100)\n    }\n  }\n\n  function run_callbacks() {\n    try {\n      root._bokeh_onload_callbacks.forEach(function(callback) {\n        if (callback != null)\n          callback();\n      });\n    } finally {\n      delete root._bokeh_onload_callbacks\n    }\n    console.debug(\"Bokeh: all callbacks have finished\");\n  }\n\n  function load_libs(css_urls, js_urls, callback) {\n    if (css_urls == null) css_urls = [];\n    if (js_urls == null) js_urls = [];\n\n    root._bokeh_onload_callbacks.push(callback);\n    if (root._bokeh_is_loading > 0) {\n      console.debug(\"Bokeh: BokehJS is being loaded, scheduling callback at\", now());\n      return null;\n    }\n    if (js_urls == null || js_urls.length === 0) {\n      run_callbacks();\n      return null;\n    }\n    console.debug(\"Bokeh: BokehJS not loaded, scheduling load and callback at\", now());\n    root._bokeh_is_loading = css_urls.length + js_urls.length;\n\n    function on_load() {\n      root._bokeh_is_loading--;\n      if (root._bokeh_is_loading === 0) {\n        console.debug(\"Bokeh: all BokehJS libraries/stylesheets loaded\");\n        run_callbacks()\n      }\n    }\n\n    function on_error(url) {\n      console.error(\"failed to load \" + url);\n    }\n\n    for (let i = 0; i < css_urls.length; i++) {\n      const url = css_urls[i];\n      const element = document.createElement(\"link\");\n      element.onload = on_load;\n      element.onerror = on_error.bind(null, url);\n      element.rel = \"stylesheet\";\n      element.type = \"text/css\";\n      element.href = url;\n      console.debug(\"Bokeh: injecting link tag for BokehJS stylesheet: \", url);\n      document.body.appendChild(element);\n    }\n\n    for (let i = 0; i < js_urls.length; i++) {\n      const url = js_urls[i];\n      const element = document.createElement('script');\n      element.onload = on_load;\n      element.onerror = on_error.bind(null, url);\n      element.async = false;\n      element.src = url;\n      console.debug(\"Bokeh: injecting script tag for BokehJS library: \", url);\n      document.head.appendChild(element);\n    }\n  };\n\n  function inject_raw_css(css) {\n    const element = document.createElement(\"style\");\n    element.appendChild(document.createTextNode(css));\n    document.body.appendChild(element);\n  }\n\n  const js_urls = [\"https://cdn.bokeh.org/bokeh/release/bokeh-3.1.1.min.js\", \"https://cdn.bokeh.org/bokeh/release/bokeh-gl-3.1.1.min.js\", \"https://cdn.bokeh.org/bokeh/release/bokeh-widgets-3.1.1.min.js\", \"https://cdn.bokeh.org/bokeh/release/bokeh-tables-3.1.1.min.js\", \"https://cdn.bokeh.org/bokeh/release/bokeh-mathjax-3.1.1.min.js\"];\n  const css_urls = [];\n\n  const inline_js = [    function(Bokeh) {\n      Bokeh.set_log_level(\"info\");\n    },\nfunction(Bokeh) {\n    }\n  ];\n\n  function run_inline_js() {\n    if (root.Bokeh !== undefined || force === true) {\n          for (let i = 0; i < inline_js.length; i++) {\n      inline_js[i].call(root, root.Bokeh);\n    }\nif (force === true) {\n        display_loaded();\n      }} else if (Date.now() < root._bokeh_timeout) {\n      setTimeout(run_inline_js, 100);\n    } else if (!root._bokeh_failed_load) {\n      console.log(\"Bokeh: BokehJS failed to load within specified timeout.\");\n      root._bokeh_failed_load = true;\n    } else if (force !== true) {\n      const cell = $(document.getElementById(\"c1d76203-c2c5-4cf8-845f-8d7134d73762\")).parents('.cell').data().cell;\n      cell.output_area.append_execute_result(NB_LOAD_WARNING)\n    }\n  }\n\n  if (root._bokeh_is_loading === 0) {\n    console.debug(\"Bokeh: BokehJS loaded, going straight to plotting\");\n    run_inline_js();\n  } else {\n    load_libs(css_urls, js_urls, function() {\n      console.debug(\"Bokeh: BokehJS plotting callback run at\", now());\n      run_inline_js();\n    });\n  }\n}(window));",
      "application/vnd.bokehjs_load.v0+json": ""
     },
     "metadata": {},
     "output_type": "display_data"
    }
   ],
   "source": [
    "import numpy as np\n",
    "import matplotlib.pyplot as plt\n",
    "\n",
    "import sgkit as sg\n",
    "\n",
    "from bokeh.plotting import show\n",
    "from bokeh.io import output_notebook\n",
    "from bokeh.models.widgets import RangeSlider\n",
    "\n",
    "import sys\n",
    "sys.path.append(\"../../tsimpute/src/\")\n",
    "import util\n",
    "import vis\n",
    "\n",
    "output_notebook()\n"
   ]
  },
  {
   "cell_type": "code",
   "execution_count": 2,
   "metadata": {},
   "outputs": [],
   "source": [
    "import os\n",
    "os.environ[\"BOKEH_ALLOW_WS_ORIGIN\"] = '0aaf0agotd3etfja916liv2etcl4ul9j3fk8kav1m1a16m18da6b'\n"
   ]
  },
  {
   "cell_type": "code",
   "execution_count": 3,
   "metadata": {},
   "outputs": [],
   "source": [
    "# Genetic variation at shared sites\n",
    "zarr_dir = \"../data/zarr/\"\n",
    "ref_ds = sg.load_dataset(zarr_dir + \"ref.zarr\") # not all allele lists are ACGT\n",
    "ref_ds_compat = sg.load_dataset(zarr_dir + \"ref_compat.zarr\")\n",
    "target_ds_compat = sg.load_dataset(zarr_dir + \"target_compat.zarr\") # ground-truth\n",
    "target_chip_ds_compat = sg.load_dataset(zarr_dir + \"target_chip_compat.zarr\")   # chip-like\n",
    "lshmm_ds_compat = sg.load_dataset(zarr_dir + \"beagle_like_2/\" + \"target_lshmm_compat.zarr\")    # imputed\n",
    "beagle_ds_compat = sg.load_dataset(zarr_dir + \"target_beagle_compat.default.zarr\")  # imputed\n"
   ]
  },
  {
   "cell_type": "code",
   "execution_count": 4,
   "metadata": {},
   "outputs": [
    {
     "name": "stdout",
     "output_type": "stream",
     "text": [
      "Sites in ref (full): 504314\n",
      "Sites in ref (shared): 231630\n",
      "Sites in target (shared): 231630\n",
      "Sites in target chip (shared): 7899\n",
      "Sites in lshmm (full): 504314\n",
      "Sites in BEAGLE (full): 504314\n"
     ]
    }
   ],
   "source": [
    "print(f\"Sites in ref (full): {ref_ds.dims['variants']}\")\n",
    "print(f\"Sites in ref (shared): {ref_ds_compat.dims['variants']}\")\n",
    "print(f\"Sites in target (shared): {target_ds_compat.dims['variants']}\")\n",
    "print(f\"Sites in target chip (shared): {target_chip_ds_compat.dims['variants']}\")\n",
    "print(f\"Sites in lshmm (full): {lshmm_ds_compat.dims['variants']}\")\n",
    "print(f\"Sites in BEAGLE (full): {beagle_ds_compat.dims['variants']}\")\n"
   ]
  },
  {
   "cell_type": "code",
   "execution_count": 5,
   "metadata": {},
   "outputs": [
    {
     "name": "stdout",
     "output_type": "stream",
     "text": [
      "Chip sites: 7899\n",
      "Chip sites (target): 7899\n",
      "Non-chip sites: 496415\n"
     ]
    }
   ],
   "source": [
    "# Identify chip and non-chip sites\n",
    "chip_site_idx = np.where(np.isin(\n",
    "    lshmm_ds_compat.variant_position.values,\n",
    "    target_chip_ds_compat.variant_position.values,\n",
    "))[0]\n",
    "\n",
    "chip_site_idx_target = np.where(np.isin(\n",
    "    target_ds_compat.variant_position.values,\n",
    "    target_chip_ds_compat.variant_position.values,\n",
    "))[0]\n",
    "\n",
    "non_chip_site_idx = np.where(np.isin(\n",
    "    lshmm_ds_compat.variant_position.values,\n",
    "    target_chip_ds_compat.variant_position.values,\n",
    "    invert=True,\n",
    "))[0]\n",
    "\n",
    "print(f\"Chip sites: {len(chip_site_idx)}\")\n",
    "print(f\"Chip sites (target): {len(chip_site_idx_target)}\")\n",
    "print(f\"Non-chip sites: {len(non_chip_site_idx)}\")\n"
   ]
  },
  {
   "cell_type": "code",
   "execution_count": 6,
   "metadata": {},
   "outputs": [],
   "source": [
    "# Identify non-chip sites in both the truth dataset and BEAGLE-imputed dataset\n",
    "non_chip_site_pos_in_truth = target_ds_compat.variant_position.values[np.isin(\n",
    "    target_ds_compat.variant_position.values,\n",
    "    target_chip_ds_compat.variant_position.values,  # Chip-like sites\n",
    "    invert=True,\n",
    ")]\n",
    "non_chip_site_pos_in_beagle = beagle_ds_compat.variant_position.values[np.isin(\n",
    "    beagle_ds_compat.variant_position.values,\n",
    "    non_chip_site_pos_in_truth,\n",
    ")]\n",
    "assert np.array_equal(non_chip_site_pos_in_truth, non_chip_site_pos_in_beagle)\n"
   ]
  },
  {
   "cell_type": "code",
   "execution_count": 7,
   "metadata": {},
   "outputs": [],
   "source": [
    "non_chip_site_idx_in_truth = np.where(np.isin(target_ds_compat.variant_position.values, non_chip_site_pos_in_truth))[0]\n",
    "non_chip_site_idx_in_beagle = np.where(np.isin(beagle_ds_compat.variant_position.values, non_chip_site_pos_in_beagle))[0]\n",
    "\n",
    "target_ds_non_chip_compat = target_ds_compat.isel(variants=non_chip_site_idx_in_truth)\n",
    "beagle_ds_non_chip_compat = beagle_ds_compat.isel(variants=non_chip_site_idx_in_beagle)\n"
   ]
  },
  {
   "cell_type": "code",
   "execution_count": 8,
   "metadata": {},
   "outputs": [
    {
     "data": {
      "image/png": "[encoded data removed]",
      "text/plain": [
       "<Figure size 800x600 with 1 Axes>"
      ]
     },
     "metadata": {},
     "output_type": "display_data"
    }
   ],
   "source": [
    "# Truth vs. BEAGLE (non-chip sites)\n",
    "diff_truth_beagle = np.zeros(\n",
    "    2 * target_ds_non_chip_compat.dims[\"samples\"],\n",
    "    dtype=np.int32\n",
    ")\n",
    "\n",
    "for i in np.arange(target_ds_compat.dims[\"samples\"]):\n",
    "    diff_truth_beagle[2 * i] = np.sum(np.invert(np.equal(\n",
    "        target_ds_non_chip_compat.call_genotype[:, i, 0].values,\n",
    "        beagle_ds_non_chip_compat.call_genotype[:, i, 0].values\n",
    "    )))\n",
    "    diff_truth_beagle[2 * i + 1] = np.sum(np.invert(np.equal(\n",
    "        target_ds_non_chip_compat.call_genotype[:, i, 1].values,\n",
    "        beagle_ds_non_chip_compat.call_genotype[:, i, 1].values\n",
    "    )))\n",
    "\n",
    "fig, ax = plt.subplots(figsize=(8, 6))\n",
    "ax.hist(diff_truth_beagle, bins=100)\n",
    "ax.set_ylabel(\"Number of samples\")\n",
    "ax.set_xlabel(\"Number of sites with different imputed allele\");\n"
   ]
  },
  {
   "cell_type": "code",
   "execution_count": 9,
   "metadata": {},
   "outputs": [],
   "source": [
    "# Identify non-chip sites in both the truth dataset and tskit-imputed dataset\n",
    "non_chip_site_pos_in_tskit = lshmm_ds_compat.variant_position.values[np.isin(\n",
    "    lshmm_ds_compat.variant_position.values,\n",
    "    non_chip_site_pos_in_truth,\n",
    ")]\n",
    "assert np.array_equal(non_chip_site_pos_in_truth, non_chip_site_pos_in_tskit)\n"
   ]
  },
  {
   "cell_type": "code",
   "execution_count": 10,
   "metadata": {},
   "outputs": [],
   "source": [
    "non_chip_site_idx_in_tskit = np.where(np.isin(lshmm_ds_compat.variant_position.values, non_chip_site_pos_in_tskit))[0]\n",
    "tskit_ds_non_chip_compat = lshmm_ds_compat.isel(variants=non_chip_site_idx_in_tskit)\n"
   ]
  },
  {
   "cell_type": "code",
   "execution_count": 11,
   "metadata": {},
   "outputs": [
    {
     "data": {
      "image/png": "[encoded data removed]",
      "text/plain": [
       "<Figure size 800x600 with 1 Axes>"
      ]
     },
     "metadata": {},
     "output_type": "display_data"
    }
   ],
   "source": [
    "# Truth vs. tskit (non-chip sites)\n",
    "diff_truth_tskit = np.zeros(\n",
    "    2 * tskit_ds_non_chip_compat.dims[\"samples\"],\n",
    "    dtype=np.int32\n",
    ")\n",
    "\n",
    "for i in np.arange(target_ds_compat.dims[\"samples\"]):\n",
    "    diff_truth_tskit[2 * i] = np.sum(np.invert(np.equal(\n",
    "        target_ds_non_chip_compat.call_genotype[:, i, 0].values,\n",
    "        tskit_ds_non_chip_compat.call_genotype[:, i, 0].values\n",
    "    )))\n",
    "    diff_truth_tskit[2 * i + 1] = np.sum(np.invert(np.equal(\n",
    "        target_ds_non_chip_compat.call_genotype[:, i, 1].values,\n",
    "        tskit_ds_non_chip_compat.call_genotype[:, i, 1].values\n",
    "    )))\n",
    "\n",
    "fig, ax = plt.subplots(figsize=(8, 6))\n",
    "ax.hist(diff_truth_tskit, bins=100)\n",
    "ax.set_ylabel(\"Number of samples\")\n",
    "ax.set_xlabel(\"Number of sites with different imputed allele\");\n"
   ]
  },
  {
   "cell_type": "code",
   "execution_count": null,
   "metadata": {},
   "outputs": [],
   "source": [
    "# Choose a sample arbitrarily\n",
    "focal_sample_id = np.where(diff_truth_tskit == np.min(diff_truth_tskit))[0][0]\n",
    "print(np.min(diff_truth_tskit))\n",
    "print(focal_sample_id)\n"
   ]
  },
  {
   "cell_type": "code",
   "execution_count": null,
   "metadata": {},
   "outputs": [],
   "source": [
    "# Sample path (list of parent node ids)\n",
    "h2 = np.load(\"../analysis/lshmm/\" + \"beagle_like_2/\" + \"h2_p25.npy\")\n",
    "h2.shape\n"
   ]
  },
  {
   "cell_type": "code",
   "execution_count": null,
   "metadata": {},
   "outputs": [],
   "source": [
    "focal_sample_path = h2[focal_sample_id, :]\n",
    "focal_sample_path.shape\n"
   ]
  },
  {
   "cell_type": "code",
   "execution_count": null,
   "metadata": {},
   "outputs": [],
   "source": [
    "assert np.array_equal(\n",
    "    beagle_ds_compat.variant_position.values[chip_site_idx],\n",
    "    lshmm_ds_compat.variant_position.values[chip_site_idx],\n",
    ")\n"
   ]
  },
  {
   "cell_type": "code",
   "execution_count": null,
   "metadata": {},
   "outputs": [],
   "source": [
    "focal_individual_id = focal_sample_id // 2\n",
    "focal_path_id = focal_sample_id % 2\n",
    "\n",
    "tracks = [\n",
    "    {\n",
    "        'site_pos': beagle_ds_compat.variant_position[chip_site_idx].values,\n",
    "        'site_base': beagle_ds_compat.call_genotype[chip_site_idx, focal_individual_id, focal_path_id].values,\n",
    "    },\n",
    "    {\n",
    "        'site_pos': lshmm_ds_compat.variant_position[chip_site_idx].values,\n",
    "        'site_base': lshmm_ds_compat.call_genotype[chip_site_idx, focal_individual_id, focal_path_id].values,\n",
    "    },\n",
    "    {\n",
    "        'site_pos': target_ds_compat.variant_position[chip_site_idx_target].values,\n",
    "        'site_base': target_ds_compat.call_genotype[chip_site_idx_target, focal_individual_id, focal_path_id].values,\n",
    "    },\n",
    "    {\n",
    "        'site_pos': target_chip_ds_compat.variant_position.values,\n",
    "        'site_base': np.repeat(-2, target_chip_ds_compat.dims[\"variants\"]),\n",
    "    },\n",
    "]\n"
   ]
  },
  {
   "cell_type": "code",
   "execution_count": null,
   "metadata": {},
   "outputs": [],
   "source": [
    "import tszip\n",
    "ref_ts = tszip.decompress(\"../data/trees/ref.tsz\")\n",
    "ref_ts\n"
   ]
  },
  {
   "cell_type": "code",
   "execution_count": null,
   "metadata": {},
   "outputs": [],
   "source": [
    "# TODO: Not actually used. Remove.\n",
    "controls = {\n",
    "    \"interval\": RangeSlider(\n",
    "        start=0, end=len(focal_sample_path), step=1,\n",
    "        value=(0, len(focal_sample_path)),\n",
    "        title=\"Genomic interval\"\n",
    "    )\n",
    "}\n",
    "\n",
    "app = vis.create_sample_path_vis_app(\n",
    "    path=util.SamplePath(\n",
    "        individual=\"Focal sample\",\n",
    "        nodes=focal_sample_path[chip_site_idx],\n",
    "        site_positions=ref_ts.sites_position[chip_site_idx],\n",
    "    ),\n",
    "    ts=ref_ts,\n",
    "    tracks=tracks,\n",
    "    legend_labels=[\n",
    "        'BEAGLE',\n",
    "        'tskit',\n",
    "        'truth',\n",
    "        'chip',\n",
    "    ],\n",
    "    controls=controls,\n",
    "    range_node_id=(0, 1400),\n",
    "    #range_site_pos=(5.80 * 10**6, 5.82 * 10**6),\n",
    ")\n",
    "\n",
    "show(app)\n"
   ]
  },
  {
   "cell_type": "code",
   "execution_count": null,
   "metadata": {},
   "outputs": [],
   "source": [
    "pos_idx = 7539\n",
    "print(ref_ts.sites_position[chip_site_idx][pos_idx])\n",
    "print(ref_ds.call_genotype[:, 821 // 2, :].values[chip_site_idx][pos_idx])\n"
   ]
  },
  {
   "cell_type": "code",
   "execution_count": null,
   "metadata": {},
   "outputs": [],
   "source": []
  }
 ],
 "metadata": {
  "kernelspec": {
   "display_name": "Python 3",
   "language": "python",
   "name": "python3"
  },
  "language_info": {
   "codemirror_mode": {
    "name": "ipython",
    "version": 3
   },
   "file_extension": ".py",
   "mimetype": "text/x-python",
   "name": "python",
   "nbconvert_exporter": "python",
   "pygments_lexer": "ipython3",
   "version": "3.9.16"
  },
  "orig_nbformat": 4
 },
 "nbformat": 4,
 "nbformat_minor": 2
}
