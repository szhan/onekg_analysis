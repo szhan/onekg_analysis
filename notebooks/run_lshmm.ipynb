{
 "cells": [
  {
   "cell_type": "code",
   "execution_count": 1,
   "metadata": {},
   "outputs": [],
   "source": [
    "from tqdm import tqdm\n",
    "\n",
    "import numpy as np\n",
    "\n",
    "import sgkit as sg\n",
    "from sgkit.io.vcf import vcf_to_zarr\n",
    "\n",
    "import tszip\n",
    "\n",
    "import sys\n",
    "sys.path.append(\"../../tsimpute/src/\")\n",
    "import compare_vcfs as cv\n",
    "import impute_by_sample_matching as impute\n",
    "import util\n"
   ]
  },
  {
   "attachments": {},
   "cell_type": "markdown",
   "metadata": {},
   "source": [
    "### Run tskit.lshmm\n"
   ]
  },
  {
   "cell_type": "code",
   "execution_count": 2,
   "metadata": {},
   "outputs": [],
   "source": [
    "trees_dir = \"../data/trees/\"\n",
    "zarr_dir = \"../data/zarr/\"\n",
    "vcf_dir = \"../data/vcf/\"\n",
    "lshmm_dir = \"../analysis/lshmm/\"\n"
   ]
  },
  {
   "cell_type": "code",
   "execution_count": 3,
   "metadata": {},
   "outputs": [],
   "source": [
    "ref_ts_file = trees_dir + \"ref.tsz\"\n",
    "ref_ts = tszip.decompress(ref_ts_file)\n"
   ]
  },
  {
   "cell_type": "code",
   "execution_count": 4,
   "metadata": {},
   "outputs": [],
   "source": [
    "target_ds = sg.load_dataset(zarr_dir + \"target.zarr\")\n",
    "target_chip_ds_compat = sg.load_dataset(zarr_dir + \"target_chip_compat.zarr\")\n"
   ]
  },
  {
   "cell_type": "code",
   "execution_count": 5,
   "metadata": {},
   "outputs": [],
   "source": [
    "switch_prob = np.repeat(1e-08, ref_ts.num_sites)\n",
    "mismatch_prob = np.repeat(1e-08, ref_ts.num_sites)\n",
    "precision = 25\n"
   ]
  },
  {
   "cell_type": "code",
   "execution_count": 6,
   "metadata": {},
   "outputs": [
    {
     "name": "stderr",
     "output_type": "stream",
     "text": [
      "100%|██████████| 7899/7899 [00:54<00:00, 145.62it/s]\n",
      "100%|██████████| 352/352 [46:21<00:00,  7.90s/it]\n",
      "100%|██████████| 504314/504314 [00:03<00:00, 127704.31it/s]\n"
     ]
    }
   ],
   "source": [
    "h1, h2, h3 = impute.impute_by_sample_matching(\n",
    "    ref_ts=ref_ts,\n",
    "    target_ds=target_chip_ds_compat,\n",
    "    switch_prob=switch_prob,\n",
    "    mismatch_prob=mismatch_prob,\n",
    "    precision=precision,\n",
    ")\n"
   ]
  },
  {
   "cell_type": "code",
   "execution_count": 7,
   "metadata": {},
   "outputs": [],
   "source": [
    "np.save(lshmm_dir + \"h1\" + \"_\" + \"p\" + str(precision) + \".npy\", h1)\n",
    "np.save(lshmm_dir + \"h2\" + \"_\" + \"p\" + str(precision) + \".npy\", h2)\n",
    "np.save(lshmm_dir + \"h3\" + \"_\" + \"p\" + str(precision) + \".npy\", h3)\n"
   ]
  },
  {
   "cell_type": "code",
   "execution_count": 8,
   "metadata": {},
   "outputs": [],
   "source": [
    "h2 = np.load(lshmm_dir + \"h2\" + \"_\" + \"p\" + str(precision) + \".npy\")\n"
   ]
  },
  {
   "cell_type": "code",
   "execution_count": 9,
   "metadata": {},
   "outputs": [
    {
     "name": "stderr",
     "output_type": "stream",
     "text": [
      "100%|██████████| 176/176 [05:04<00:00,  1.73s/it]\n"
     ]
    }
   ],
   "source": [
    "assert h2.shape[0] == target_ds.dims[\"samples\"] * target_ds.dims[\"ploidy\"]\n",
    "assert h2.shape[1] == ref_ts.num_sites\n",
    "\n",
    "sample_names = target_ds.vcf_header.split(\"\\n\")[5].split(\"\\t\")[9:]\n",
    "\n",
    "lshmm_ts = ref_ts\n",
    "\n",
    "i = 0\n",
    "for sample_name in tqdm(sample_names):\n",
    "    metadata_str = f\"\\\"name\\\": \\\"{sample_name}\\\", \"\n",
    "    metadata_str += f\"\\\"status\\\": \\\"imputed\\\", \"\n",
    "    metadata_str += f\"\\\"recomb\\\": \\\"uniform\\\", \"\n",
    "    metadata_str += f\"\\\"precision\\\": \\\"{precision}\\\"\"\n",
    "\n",
    "    path_1 = util.SamplePath(\n",
    "        individual=sample_name,\n",
    "        nodes=h2[2 * i],\n",
    "        site_positions=ref_ts.sites_position,\n",
    "        metadata=metadata_str.encode('ascii')\n",
    "    )\n",
    "    path_2 = util.SamplePath(\n",
    "        individual=sample_name,\n",
    "        nodes=h2[2 * i + 1],\n",
    "        site_positions=ref_ts.sites_position,\n",
    "        metadata=metadata_str.encode('ascii')\n",
    "    )\n",
    "\n",
    "    assert path_1.is_valid\n",
    "    assert path_2.is_valid\n",
    "\n",
    "    _, lshmm_ts = util.add_individual_to_tree_sequence(\n",
    "        ts=lshmm_ts,\n",
    "        paths=[path_1, path_2],\n",
    "        metadata=metadata_str.encode('ascii')\n",
    "    )\n",
    "\n",
    "    i += 1\n"
   ]
  },
  {
   "cell_type": "code",
   "execution_count": 10,
   "metadata": {},
   "outputs": [
    {
     "data": {
      "text/html": [
       "\n",
       "            <div>\n",
       "              <style>\n",
       "                .tskit-table thead tr th {text-align: left;padding: 0.5em 0.5em;}\n",
       "                .tskit-table tbody tr td {padding: 0.5em 0.5em;}\n",
       "                .tskit-table tbody tr td:first-of-type {text-align: left;}\n",
       "                .tskit-details-label {vertical-align: top; padding-right:5px;}\n",
       "                .tskit-table-set {display: inline-flex;flex-wrap: wrap;margin: -12px 0 0 -12px;width: calc(100% + 12px);}\n",
       "                .tskit-table-set-table {margin: 12px 0 0 12px;}\n",
       "                details {display: inline-block;}\n",
       "                summary {cursor: pointer; outline: 0; display: list-item;}\n",
       "              </style>\n",
       "              <div class=\"tskit-table-set\">\n",
       "                <div class=\"tskit-table-set-table\">\n",
       "                  <table class=\"tskit-table\">\n",
       "                    <thead>\n",
       "                      <tr>\n",
       "                        <th style=\"padding:0;line-height:21px;\">\n",
       "                          <img style=\"height: 32px;display: inline-block;padding: 3px 5px 3px 0;\" src=\"https://raw.githubusercontent.com/tskit-dev/administrative/main/tskit_logo.svg\"/>\n",
       "                          <a target=\"_blank\" href=\"https://tskit.dev/tskit/docs/latest/python-api.html#the-treesequence-class\"> Tree Sequence </a>\n",
       "                        </th>\n",
       "                      </tr>\n",
       "                    </thead>\n",
       "                    <tbody>\n",
       "                      <tr><td>Trees</td><td>43101</td></tr>\n",
       "                      <tr><td>Sequence Length</td><td>28050000.0</td></tr>\n",
       "                      <tr><td>Time Units</td><td>unknown</td></tr>\n",
       "                      <tr><td>Sample Nodes</td><td>1752</td></tr>\n",
       "                      <tr><td>Total Size</td><td>123.6 MiB</td></tr>\n",
       "                      <tr>\n",
       "                        <td>Metadata</td><td style=\"text-align: left;\">No Metadata</td></tr>\n",
       "                    </tbody>\n",
       "                  </table>\n",
       "                </div>\n",
       "                <div class=\"tskit-table-set-table\">\n",
       "                  <table class=\"tskit-table\">\n",
       "                    <thead>\n",
       "                      <tr>\n",
       "                        <th style=\"line-height:21px;\">Table</th>\n",
       "                        <th>Rows</th>\n",
       "                        <th>Size</th>\n",
       "                        <th>Has Metadata</th>\n",
       "                      </tr>\n",
       "                    </thead>\n",
       "                    <tbody>\n",
       "                    \n",
       "                  <tr>\n",
       "                    <td>Edges</td>\n",
       "                      <td>1020322</td>\n",
       "                      <td>31.1 MiB</td>\n",
       "                      <td style=\"text-align: center;\">\n",
       "                        \n",
       "                      </td>\n",
       "                    </tr>\n",
       "                \n",
       "                  <tr>\n",
       "                    <td>Individuals</td>\n",
       "                      <td>876</td>\n",
       "                      <td>259.9 KiB</td>\n",
       "                      <td style=\"text-align: center;\">\n",
       "                        ✅\n",
       "                      </td>\n",
       "                    </tr>\n",
       "                \n",
       "                  <tr>\n",
       "                    <td>Migrations</td>\n",
       "                      <td>0</td>\n",
       "                      <td>8 Bytes</td>\n",
       "                      <td style=\"text-align: center;\">\n",
       "                        \n",
       "                      </td>\n",
       "                    </tr>\n",
       "                \n",
       "                  <tr>\n",
       "                    <td>Mutations</td>\n",
       "                      <td>907372</td>\n",
       "                      <td>32.0 MiB</td>\n",
       "                      <td style=\"text-align: center;\">\n",
       "                        \n",
       "                      </td>\n",
       "                    </tr>\n",
       "                \n",
       "                  <tr>\n",
       "                    <td>Nodes</td>\n",
       "                      <td>164497</td>\n",
       "                      <td>12.3 MiB</td>\n",
       "                      <td style=\"text-align: center;\">\n",
       "                        ✅\n",
       "                      </td>\n",
       "                    </tr>\n",
       "                \n",
       "                  <tr>\n",
       "                    <td>Populations</td>\n",
       "                      <td>54</td>\n",
       "                      <td>2.7 KiB</td>\n",
       "                      <td style=\"text-align: center;\">\n",
       "                        ✅\n",
       "                      </td>\n",
       "                    </tr>\n",
       "                \n",
       "                  <tr>\n",
       "                    <td>Provenances</td>\n",
       "                      <td>18</td>\n",
       "                      <td>11.9 KiB</td>\n",
       "                      <td style=\"text-align: center;\">\n",
       "                        \n",
       "                      </td>\n",
       "                    </tr>\n",
       "                \n",
       "                  <tr>\n",
       "                    <td>Sites</td>\n",
       "                      <td>504314</td>\n",
       "                      <td>40.1 MiB</td>\n",
       "                      <td style=\"text-align: center;\">\n",
       "                        ✅\n",
       "                      </td>\n",
       "                    </tr>\n",
       "                \n",
       "                    </tbody>\n",
       "                  </table>\n",
       "                </div>\n",
       "              </div>\n",
       "            </div>\n",
       "            "
      ],
      "text/plain": [
       "<tskit.trees.TreeSequence at 0x7fa4ffc629d0>"
      ]
     },
     "execution_count": 10,
     "metadata": {},
     "output_type": "execute_result"
    }
   ],
   "source": [
    "lshmm_ts\n"
   ]
  },
  {
   "cell_type": "code",
   "execution_count": 11,
   "metadata": {},
   "outputs": [],
   "source": [
    "lshmm_ts_file = lshmm_dir + \"target_lshmm.tsz\"\n",
    "tszip.compress(lshmm_ts, lshmm_ts_file)\n"
   ]
  },
  {
   "cell_type": "code",
   "execution_count": 12,
   "metadata": {},
   "outputs": [],
   "source": [
    "lshmm_vcf_file = vcf_dir + \"target_lshmm.vcf\"\n",
    "\n",
    "assert ref_ts.num_individuals == lshmm_ts.num_individuals - len(sample_names)\n",
    "\n",
    "with open(lshmm_vcf_file, \"w\") as f:\n",
    "    lshmm_ts.write_vcf(\n",
    "        output=f,\n",
    "        contig_id=\"20\",\n",
    "        individuals=np.arange(\n",
    "            ref_ts.num_individuals,\n",
    "            lshmm_ts.num_individuals\n",
    "        ),\n",
    "        individual_names=sample_names,\n",
    "    )\n"
   ]
  },
  {
   "cell_type": "code",
   "execution_count": 13,
   "metadata": {},
   "outputs": [],
   "source": [
    "%%bash\n",
    "vcf_dir=\"../data/vcf/\"\n",
    "bgzip ${vcf_dir}\"target_lshmm.vcf\"\n",
    "bcftools index ${vcf_dir}\"target_lshmm.vcf.gz\"\n"
   ]
  },
  {
   "cell_type": "code",
   "execution_count": 14,
   "metadata": {},
   "outputs": [],
   "source": [
    "lshmm_vcf_file = vcf_dir + \"target_lshmm.vcf.gz\"\n",
    "vcf_to_zarr(lshmm_vcf_file, zarr_dir + \"target_lshmm.zarr\")\n",
    "lshmm_ds = sg.load_dataset(zarr_dir + \"target_lshmm.zarr\")\n"
   ]
  },
  {
   "cell_type": "code",
   "execution_count": 15,
   "metadata": {},
   "outputs": [
    {
     "name": "stderr",
     "output_type": "stream",
     "text": [
      "100%|██████████| 504314/504314 [49:40<00:00, 169.21it/s]  \n",
      "100%|██████████| 504314/504314 [1:19:17<00:00, 106.01it/s]\n"
     ]
    }
   ],
   "source": [
    "lshmm_ds_compat = cv.remap_to_acgt(lshmm_ds, num_workers=6)\n"
   ]
  },
  {
   "cell_type": "code",
   "execution_count": 16,
   "metadata": {},
   "outputs": [],
   "source": [
    "sg.save_dataset(lshmm_ds_compat, zarr_dir + \"target_lshmm_compat.zarr\")\n"
   ]
  },
  {
   "cell_type": "code",
   "execution_count": null,
   "metadata": {},
   "outputs": [],
   "source": []
  }
 ],
 "metadata": {
  "kernelspec": {
   "display_name": "Python 3",
   "language": "python",
   "name": "python3"
  },
  "language_info": {
   "codemirror_mode": {
    "name": "ipython",
    "version": 3
   },
   "file_extension": ".py",
   "mimetype": "text/x-python",
   "name": "python",
   "nbconvert_exporter": "python",
   "pygments_lexer": "ipython3",
   "version": "3.9.16"
  },
  "orig_nbformat": 4
 },
 "nbformat": 4,
 "nbformat_minor": 2
}
