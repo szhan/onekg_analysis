{
 "cells": [
  {
   "cell_type": "code",
   "execution_count": 1,
   "metadata": {},
   "outputs": [],
   "source": [
    "import json\n",
    "import os\n",
    "import sys\n",
    "\n",
    "import numpy as np\n",
    "import pandas as pd\n",
    "\n",
    "import sgkit as sg\n",
    "from sgkit.io.vcf import vcf_to_zarr\n",
    "\n",
    "import tsinfer\n",
    "import tskit\n",
    "import tszip\n",
    "\n",
    "sys.path.append(\"../../tsimpute/src/\")\n",
    "import util\n",
    "import perform_imputation_by_sample_matching as pism\n"
   ]
  },
  {
   "attachments": {},
   "cell_type": "markdown",
   "metadata": {},
   "source": [
    "### Prepare data for imputation\n"
   ]
  },
  {
   "cell_type": "code",
   "execution_count": 2,
   "metadata": {},
   "outputs": [],
   "source": [
    "data_dir = \"../data/trees/\"\n",
    "ref_ts_file = data_dir + \"ref.tsz\"\n",
    "target_ts_file = data_dir + \"target.tsz\"\n",
    "ref_ts = tszip.decompress(ref_ts_file)\n",
    "target_ts = tszip.decompress(target_ts_file)\n"
   ]
  },
  {
   "cell_type": "code",
   "execution_count": 3,
   "metadata": {},
   "outputs": [
    {
     "name": "stdout",
     "output_type": "stream",
     "text": [
      "Number of individuals in ref_ts: 700\n"
     ]
    }
   ],
   "source": [
    "ref_ind_names = []\n",
    "for ind in ref_ts.individuals():\n",
    "    ref_ind_names.append(json.loads(ind.metadata)[\"sample\"])\n",
    "print(f\"Number of individuals in ref_ts: {len(ref_ind_names)}\")\n"
   ]
  },
  {
   "cell_type": "code",
   "execution_count": 4,
   "metadata": {},
   "outputs": [
    {
     "name": "stdout",
     "output_type": "stream",
     "text": [
      "Number of individuals in target_ts: 176\n"
     ]
    }
   ],
   "source": [
    "target_ind_names = []\n",
    "for ind in target_ts.individuals():\n",
    "    target_ind_names.append(json.loads(ind.metadata)[\"sample\"])\n",
    "print(f\"Number of individuals in target_ts: {len(target_ind_names)}\")\n"
   ]
  },
  {
   "cell_type": "code",
   "execution_count": 5,
   "metadata": {},
   "outputs": [],
   "source": [
    "# Reference panel\n",
    "# VCF for BEAGLE\n",
    "out_dir = \"../data/vcf/\"\n",
    "out_file = out_dir + \"ref.vcf\"\n",
    "with open(out_file, \"w\") as f:\n",
    "    ref_ts.write_vcf(\n",
    "        output=f,\n",
    "        contig_id=\"20\",\n",
    "        individual_names=ref_ind_names,\n",
    "    )\n"
   ]
  },
  {
   "cell_type": "code",
   "execution_count": 6,
   "metadata": {},
   "outputs": [],
   "source": [
    "# Target cohort\n",
    "out_file = out_dir + \"target.vcf\"\n",
    "with open(out_file, \"w\") as f:\n",
    "    target_ts.write_vcf(\n",
    "        output=f,\n",
    "        contig_id=\"20\",\n",
    "        individual_names=target_ind_names,\n",
    "    )\n"
   ]
  },
  {
   "cell_type": "code",
   "execution_count": 7,
   "metadata": {},
   "outputs": [],
   "source": [
    "chip_dir = \"../data/array/\"\n",
    "chip_file = chip_dir + \"InfiniumOmniExpress-24v1-2_A2_chr20_pos.csv\"\n",
    "chip_df = pd.read_csv(chip_file)\n",
    "chip_site_pos = chip_df[\"MapInfo\"].values\n"
   ]
  },
  {
   "cell_type": "code",
   "execution_count": 8,
   "metadata": {},
   "outputs": [
    {
     "name": "stdout",
     "output_type": "stream",
     "text": [
      "Number of sites in ref. panel: 504314\n",
      "Number of sites in target cohort: 285446\n",
      "Number of sites in chip: 18166\n"
     ]
    }
   ],
   "source": [
    "print(f\"Number of sites in ref. panel: {ref_ts.num_sites}\")\n",
    "print(f\"Number of sites in target cohort: {target_ts.num_sites}\")\n",
    "print(f\"Number of sites in chip: {len(chip_site_pos)}\") # Both p- and q-arms\n"
   ]
  },
  {
   "cell_type": "code",
   "execution_count": 9,
   "metadata": {},
   "outputs": [
    {
     "name": "stdout",
     "output_type": "stream",
     "text": [
      "Number of sites in target cohort after removing sites not in chip: 7899\n"
     ]
    }
   ],
   "source": [
    "all_sites = np.arange(target_ts.num_sites)\n",
    "remove_sites = all_sites[np.isin(target_ts.sites_position, chip_site_pos, invert=True)]\n",
    "target_chip_ts = target_ts.delete_sites(site_ids=remove_sites)\n",
    "target_chip_ts\n",
    "print(f\"Number of sites in target cohort after removing sites not in chip: {target_chip_ts.num_sites}\")\n"
   ]
  },
  {
   "cell_type": "code",
   "execution_count": 10,
   "metadata": {},
   "outputs": [],
   "source": [
    "# Target cohort (chip-like)\n",
    "# VCF for BEAGLE\n",
    "out_file = out_dir + \"target_chip.vcf\"\n",
    "with open(out_file, \"w\") as f:\n",
    "    target_chip_ts.write_vcf(\n",
    "        output=f,\n",
    "        contig_id=\"20\",\n",
    "        individual_names=target_ind_names,\n",
    "    )\n",
    "assert target_chip_ts.num_individuals == target_ts.num_individuals\n"
   ]
  },
  {
   "cell_type": "code",
   "execution_count": 13,
   "metadata": {},
   "outputs": [],
   "source": [
    "%%bash\n",
    "data_dir=\"../data/vcf/\"\n",
    "bgzip $data_dir\"ref.vcf\"\n",
    "bgzip $data_dir\"target.vcf\"\n",
    "bgzip $data_dir\"target_chip.vcf\"\n"
   ]
  },
  {
   "cell_type": "code",
   "execution_count": 14,
   "metadata": {},
   "outputs": [],
   "source": [
    "%%bash\n",
    "data_dir=\"../data/vcf/\"\n",
    "bcftools index $data_dir\"ref.vcf.gz\"\n",
    "bcftools index $data_dir\"target.vcf.gz\"\n",
    "bcftools index $data_dir\"target_chip.vcf.gz\"\n"
   ]
  }
 ],
 "metadata": {
  "kernelspec": {
   "display_name": "Python 3",
   "language": "python",
   "name": "python3"
  },
  "language_info": {
   "codemirror_mode": {
    "name": "ipython",
    "version": 3
   },
   "file_extension": ".py",
   "mimetype": "text/x-python",
   "name": "python",
   "nbconvert_exporter": "python",
   "pygments_lexer": "ipython3",
   "version": "3.9.16"
  },
  "orig_nbformat": 4
 },
 "nbformat": 4,
 "nbformat_minor": 2
}
