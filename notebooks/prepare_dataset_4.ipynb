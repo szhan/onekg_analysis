{
 "cells": [
  {
   "cell_type": "code",
   "execution_count": 1,
   "metadata": {},
   "outputs": [],
   "source": [
    "import sgkit as sg\n",
    "from sgkit.io.vcf import vcf_to_zarr\n",
    "\n",
    "import tszip\n",
    "\n",
    "import sys\n",
    "sys.path.append(\"../../tsimpute/src/\")\n",
    "import compare_vcfs as cv\n"
   ]
  },
  {
   "attachments": {},
   "cell_type": "markdown",
   "metadata": {},
   "source": [
    "### Prepare zarr files for sgkit\n"
   ]
  },
  {
   "cell_type": "code",
   "execution_count": 2,
   "metadata": {},
   "outputs": [],
   "source": [
    "trees_dir = \"../data/trees/\"\n",
    "vcf_dir = \"../data/vcf/\"\n",
    "zarr_dir = \"../data/zarr/\"\n"
   ]
  },
  {
   "cell_type": "code",
   "execution_count": 3,
   "metadata": {},
   "outputs": [],
   "source": [
    "ref_ts_file = trees_dir + \"ref.tsz\"\n",
    "ref_ts = tszip.decompress(ref_ts_file)\n"
   ]
  },
  {
   "cell_type": "code",
   "execution_count": 4,
   "metadata": {},
   "outputs": [],
   "source": [
    "ref_vcf_file = vcf_dir + \"ref.vcf.gz\"\n",
    "target_vcf_file = vcf_dir + \"target.vcf.gz\"\n",
    "target_chip_vcf_file = vcf_dir + \"target_chip.vcf.gz\"\n"
   ]
  },
  {
   "cell_type": "code",
   "execution_count": null,
   "metadata": {},
   "outputs": [],
   "source": [
    "vcf_to_zarr(ref_vcf_file, zarr_dir + \"ref.zarr\")\n",
    "vcf_to_zarr(target_vcf_file, zarr_dir + \"target.zarr\")\n",
    "vcf_to_zarr(target_chip_vcf_file, zarr_dir + \"target_chip.zarr\")\n"
   ]
  },
  {
   "cell_type": "code",
   "execution_count": null,
   "metadata": {},
   "outputs": [],
   "source": [
    "ref_ds = sg.load_dataset(zarr_dir + \"ref.zarr\")\n",
    "target_ds = sg.load_dataset(zarr_dir + \"target.zarr\")\n",
    "target_chip_ds = sg.load_dataset(zarr_dir + \"target_chip.zarr\")\n"
   ]
  },
  {
   "cell_type": "code",
   "execution_count": null,
   "metadata": {},
   "outputs": [],
   "source": [
    "ref_ds_compat = cv.remap_to_acgt(ref_ds, num_workers=6)\n",
    "sg.save_dataset(ref_ds_compat, zarr_dir + \"ref_compat.zarr\")\n"
   ]
  },
  {
   "cell_type": "code",
   "execution_count": null,
   "metadata": {},
   "outputs": [],
   "source": [
    "target_ds_compat = cv.remap_to_acgt(target_ds, num_workers=6)\n",
    "sg.save_dataset(target_ds_compat, zarr_dir + \"target_compat.zarr\")\n"
   ]
  },
  {
   "cell_type": "code",
   "execution_count": null,
   "metadata": {},
   "outputs": [],
   "source": [
    "target_chip_ds_compat = cv.remap_to_acgt(target_chip_ds, num_workers=6)\n",
    "sg.save_dataset(target_chip_ds_compat, zarr_dir + \"target_chip_compat.zarr\")\n"
   ]
  },
  {
   "cell_type": "code",
   "execution_count": 5,
   "metadata": {},
   "outputs": [],
   "source": [
    "beagle_vcf_file = \"../analysis/beagle/target.beagle.default.vcf.gz\"\n",
    "vcf_to_zarr(beagle_vcf_file, zarr_dir + \"target_beagle.default.zarr\")\n",
    "beagle_ds = sg.load_dataset(zarr_dir + \"target_beagle.default.zarr\")\n"
   ]
  },
  {
   "cell_type": "code",
   "execution_count": 6,
   "metadata": {},
   "outputs": [
    {
     "name": "stderr",
     "output_type": "stream",
     "text": [
      "100%|██████████| 504314/504314 [45:12<00:00, 185.94it/s] \n"
     ]
    }
   ],
   "source": [
    "beagle_ds_compat = cv.remap_to_acgt(beagle_ds, num_workers=6)\n",
    "sg.save_dataset(beagle_ds_compat, zarr_dir + \"target_beagle_compat.default.zarr\")\n"
   ]
  },
  {
   "cell_type": "code",
   "execution_count": null,
   "metadata": {},
   "outputs": [],
   "source": []
  }
 ],
 "metadata": {
  "kernelspec": {
   "display_name": "Python 3",
   "language": "python",
   "name": "python3"
  },
  "language_info": {
   "codemirror_mode": {
    "name": "ipython",
    "version": 3
   },
   "file_extension": ".py",
   "mimetype": "text/x-python",
   "name": "python",
   "nbconvert_exporter": "python",
   "pygments_lexer": "ipython3",
   "version": "3.9.16"
  },
  "orig_nbformat": 4
 },
 "nbformat": 4,
 "nbformat_minor": 2
}
